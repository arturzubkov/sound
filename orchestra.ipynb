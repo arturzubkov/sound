{
 "cells": [
  {
   "cell_type": "code",
   "execution_count": 2,
   "metadata": {},
   "outputs": [
    {
     "name": "stderr",
     "output_type": "stream",
     "text": [
      "WARNING:root:python-rtmidi was not found; streaming midi input / output will not be available.\n",
      "WARNING:root:pynput was not found; mouse and keyboard input will not be available.\n"
     ]
    }
   ],
   "source": [
    "from scamp import *\n",
    "import random"
   ]
  },
  {
   "cell_type": "code",
   "execution_count": 3,
   "metadata": {},
   "outputs": [
    {
     "name": "stdout",
     "output_type": "stream",
     "text": [
      "Using preset Jazz Guitar for Guitar\n",
      "Using preset Harmonica for Harmonica\n",
      "Using preset Piano Merlin for Piano\n",
      "Using preset Picked Bass for Picked bass\n",
      "Using preset Flute Gold for flute\n",
      "Using preset Clarinet for clarinet\n"
     ]
    }
   ],
   "source": [
    "session = Session()\n",
    "session.tempo = 90\n",
    "\n",
    "guitar = session.new_part(\"Guitar\")\n",
    "harmon = session.new_part(\"Harmonica\")\n",
    "piano = session.new_part(\"Piano\")\n",
    "bass = session.new_part(\"Picked bass\")\n",
    "flute = session.new_part(\"flute\")\n",
    "clarinet = session.new_part(\"clarinet\")\n",
    "\n",
    "\n",
    "pitches = [40, 49 , 27, 36, 53, 46, 50, 48, 61, 38, 40 , 38, 45, 36, 38, 41, 50, 33, 36]\n",
    "durations = [0.1 ,1.0 , 1.2, 2.0, 0.5 , 0.23, 0.34, 1, 0.3, 0.4,2.0, 0.5 , 0.23, 0.34, 1, 0.3, 0.4,0.3 ,1.0 , 1.2]\n",
    "\n"
   ]
  },
  {
   "cell_type": "code",
   "execution_count": 4,
   "metadata": {},
   "outputs": [],
   "source": [
    "class PassagePlayer:\n",
    "    def __init__(self,instrument, pitches, durations):\n",
    "        self.instr = instrument\n",
    "        self.pitch_list = pitches\n",
    "        self.durs = durations\n",
    "        \n",
    "    def play_passage(self,snippet_length):\n",
    "        pitch_start_index = random.randrange(0,len(self.pitch_list) - snippet_length)\n",
    "        duration_start_index =  random.randrange(0,len(self.durs) - snippet_length)\n",
    "        snippet_pitches = self.pitch_list[pitch_start_index: pitch_start_index + snippet_length]\n",
    "        snippet_durations = self.durs[duration_start_index:duration_start_index + snippet_length]\n",
    "        \n",
    "        for pitch, duration in zip(snippet_pitches, snippet_durations):\n",
    "            self.instr.play_note(pitch, 0.8, duration)\n",
    "    def transpose(self, trans):\n",
    "        self.pitch_list=[p+trans for p in self.pitch_list] "
   ]
  },
  {
   "cell_type": "code",
   "execution_count": 5,
   "metadata": {},
   "outputs": [],
   "source": [
    "passage_players = []\n",
    "\n",
    "for instr in session.instruments:\n",
    "    passage_players.append(PassagePlayer(instr, pitches,durations))"
   ]
  },
  {
   "cell_type": "code",
   "execution_count": 1,
   "metadata": {},
   "outputs": [
    {
     "data": {
      "text/plain": [
       "'while True:\\n    next_player = passage_players.pop()\\n    if random.random() < 0.3:\\n        next_player.transpose(-5)\\n    passage_players.insert(0, next_player)\\n    session.fork(next_player.play_passage , args = [random.randint(2,7)])\\n    wait(1.3)'"
      ]
     },
     "execution_count": 1,
     "metadata": {},
     "output_type": "execute_result"
    }
   ],
   "source": [
    "while True:\n",
    "    next_player = passage_players.pop()\n",
    "    if random.random() < 0.3:\n",
    "        next_player.transpose(-5)\n",
    "    passage_players.insert(0, next_player)\n",
    "    session.fork(next_player.play_passage , args = [random.randint(2,7)])\n",
    "    wait(1.3)"
   ]
  }
 ],
 "metadata": {
  "kernelspec": {
   "display_name": "Python 3",
   "language": "python",
   "name": "python3"
  },
  "language_info": {
   "codemirror_mode": {
    "name": "ipython",
    "version": 3
   },
   "file_extension": ".py",
   "mimetype": "text/x-python",
   "name": "python",
   "nbconvert_exporter": "python",
   "pygments_lexer": "ipython3",
   "version": "3.7.4"
  },
  "orig_nbformat": 4,
  "vscode": {
   "interpreter": {
    "hash": "aee8b7b246df8f9039afb4144a1f6fd8d2ca17a180786b69acc140d282b71a49"
   }
  }
 },
 "nbformat": 4,
 "nbformat_minor": 2
}
