{
 "cells": [
  {
   "cell_type": "code",
   "execution_count": 2,
   "metadata": {},
   "outputs": [],
   "source": [
    "import sys, time\n",
    "from pyo import *\n"
   ]
  },
  {
   "cell_type": "code",
   "execution_count": 5,
   "metadata": {},
   "outputs": [
    {
     "name": "stdout",
     "output_type": "stream",
     "text": [
      "Pyo warning: Portaudio input device `MacBook Air Microphone` has fewer channels (1) than requested (2).\n",
      "Pyo warning: Portmidi warning: no midi device found!\n",
      "Portmidi closed.\n",
      "Warning: DataTable data length < size... padded with 0s.\n"
     ]
    }
   ],
   "source": [
    "#Deep  Bee\n",
    "S = Server().boot()\n",
    "S.start()\n",
    "notes = [(random.randint(150,170)) for i in range(30)]\n",
    "table = DataTable(size=100, init=notes)\n",
    "randint = RandInt(15,17)\n",
    "pit = TableIndex(table, randint)\n",
    "sine = SineLoop(freq = [pit, pit*0.99], feedback = 0.07, mul = 0.3).out()\n",
    "harm = Harmonizer(sine, transpo= -3, feedback=0.56).out()\n",
    "ch = Chorus(harm, depth=1, feedback=0.9)\n",
    "ch2 = Chorus(ch, depth = 0.9, feedback=0.9).out()\n",
    "#S.stop()"
   ]
  },
  {
   "cell_type": "code",
   "execution_count": 7,
   "metadata": {},
   "outputs": [
    {
     "name": "stdout",
     "output_type": "stream",
     "text": [
      "Pyo warning: Portaudio input device `MacBook Air Microphone` has fewer channels (1) than requested (2).\n",
      "Pyo warning: Portmidi warning: no midi device found!\n",
      "Portmidi closed.\n"
     ]
    }
   ],
   "source": [
    "s = Server().boot()\n",
    "s.start()\n",
    "s.amp = 0.3\n",
    "w = Sine()\n",
    "hrz = Harmonizer(w).out()\n",
    "ch = Chorus(w).out()\n",
    "fqshft = FreqShift(w).out()\n",
    "hrz_2 = Harmonizer(fqshft).out()\n",
    "#s.stop()"
   ]
  },
  {
   "cell_type": "code",
   "execution_count": 10,
   "metadata": {},
   "outputs": [
    {
     "name": "stdout",
     "output_type": "stream",
     "text": [
      "Pyo warning: Portaudio input device `MacBook Air Microphone` has fewer channels (1) than requested (2).\n",
      "Pyo warning: Portmidi warning: no midi device found!\n",
      "Portmidi closed.\n"
     ]
    }
   ],
   "source": [
    "#SCRATCH\n",
    "s=Server().boot()\n",
    "s.start()\n",
    "lfo = Phasor(0.1,0,0.2,0.15)\n",
    "x = Xnoise(dist=7, freq=6, x1=1, x2=lfo, mul=200, add=150)\n",
    "jit = Randi(min=0.99, max=2.01, freq=[220,35,200,141,132,76,28, 300, 189])\n",
    "a=SineLoop(x*jit, feedback=0.03, mul=0.2).out()\n",
    "#s.stop()"
   ]
  }
 ],
 "metadata": {
  "kernelspec": {
   "display_name": "Python 3.9.5 64-bit",
   "language": "python",
   "name": "python3"
  },
  "language_info": {
   "codemirror_mode": {
    "name": "ipython",
    "version": 3
   },
   "file_extension": ".py",
   "mimetype": "text/x-python",
   "name": "python",
   "nbconvert_exporter": "python",
   "pygments_lexer": "ipython3",
   "version": "3.7.4"
  },
  "orig_nbformat": 4,
  "vscode": {
   "interpreter": {
    "hash": "aee8b7b246df8f9039afb4144a1f6fd8d2ca17a180786b69acc140d282b71a49"
   }
  }
 },
 "nbformat": 4,
 "nbformat_minor": 2
}
