{
 "cells": [
  {
   "cell_type": "code",
   "execution_count": 2,
   "metadata": {},
   "outputs": [
    {
     "name": "stdout",
     "output_type": "stream",
     "text": [
      "\n",
      "WxPython is not found for the current python version.\n",
      "Pyo will use a minimal GUI toolkit written with Tkinter (if available).\n",
      "This toolkit has limited functionnalities and is no more\n",
      "maintained or updated. If you want to use all of pyo's\n",
      "GUI features, you should install WxPython, available here:\n",
      "http://www.wxpython.org/\n",
      "\n"
     ]
    }
   ],
   "source": [
    "from pyo import *"
   ]
  },
  {
   "cell_type": "code",
   "execution_count": 8,
   "metadata": {},
   "outputs": [
    {
     "name": "stdout",
     "output_type": "stream",
     "text": [
      "Pyo warning: Portaudio input device `MacBook Air Microphone` has fewer channels (1) than requested (2).\n",
      "Pyo warning: Portmidi warning: no midi device found!\n",
      "Portmidi closed.\n",
      "WxPython must be installed to use the Spectrum display.\n"
     ]
    }
   ],
   "source": [
    "s = Server().boot()\n",
    "s.start()\n",
    "n1 = Noise(0.3)\n",
    "n2 = PinkNoise(0.3)\n",
    "n3 = BrownNoise(0.3)\n",
    "sel = Selector([n1,n2,n3]).out()\n",
    "sel.ctrl(title=\"Input interpolator (0=White, 1=Pink, 2=Brown)\")\n",
    "sp = Spectrum(sel).out()\n",
    "#s.gui(locals())\n",
    "#s.stop()"
   ]
  },
  {
   "cell_type": "code",
   "execution_count": 6,
   "metadata": {},
   "outputs": [
    {
     "name": "stdout",
     "output_type": "stream",
     "text": [
      "Pyo warning: Portaudio input device `MacBook Air Microphone` has fewer channels (1) than requested (2).\n",
      "Pyo warning: Portmidi warning: no midi device found!\n",
      "Portmidi closed.\n"
     ]
    }
   ],
   "source": [
    "server = Server().boot()\n",
    "server.start()\n",
    "chebytable = ChebyTable([1,0,0.33,0,0.2])\n",
    "lfo = Sine(freq = 0.25, mul = 0.45, add = 0.5)\n",
    "sine_wave= Sine(freq=[200,201], mul = lfo)\n",
    "lookup= Lookup(table = chebytable , index = sine_wave, mul = 1- lfo).out()\n",
    "#s.gui(locals())\n",
    "#server.stop()\n",
    "\n"
   ]
  }
 ],
 "metadata": {
  "kernelspec": {
   "display_name": "Python 3",
   "language": "python",
   "name": "python3"
  },
  "language_info": {
   "codemirror_mode": {
    "name": "ipython",
    "version": 3
   },
   "file_extension": ".py",
   "mimetype": "text/x-python",
   "name": "python",
   "nbconvert_exporter": "python",
   "pygments_lexer": "ipython3",
   "version": "3.7.4"
  },
  "orig_nbformat": 4,
  "vscode": {
   "interpreter": {
    "hash": "aee8b7b246df8f9039afb4144a1f6fd8d2ca17a180786b69acc140d282b71a49"
   }
  }
 },
 "nbformat": 4,
 "nbformat_minor": 2
}
